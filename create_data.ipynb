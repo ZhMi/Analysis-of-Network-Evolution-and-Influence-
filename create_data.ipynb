{
 "metadata": {
  "name": "create_data"
 },
 "nbformat": 3,
 "nbformat_minor": 0,
 "worksheets": [
  {
   "cells": [
    {
     "cell_type": "code",
     "collapsed": false,
     "input": "import csv\nimport random",
     "language": "python",
     "metadata": {},
     "outputs": [],
     "prompt_number": 7
    },
    {
     "cell_type": "code",
     "collapsed": false,
     "input": "def writeFile(file_name,data_list):\n    csvfile = file(file_name, 'wb')\n    writer = csv.writer(csvfile)\n    writer.writerow(['source','target','weight'])\n    writer.writerows(data_list)\n    csvfile.close()",
     "language": "python",
     "metadata": {},
     "outputs": [],
     "prompt_number": 8
    },
    {
     "cell_type": "code",
     "collapsed": false,
     "input": "def createNode(node_num,node_min_value):\n    node_list = []\n    for i in xrange(node_num):\n        node_list.append(i+node_min_value)\n    return node_list",
     "language": "python",
     "metadata": {},
     "outputs": [],
     "prompt_number": 9
    },
    {
     "cell_type": "code",
     "collapsed": false,
     "input": "def createNeighborSide(source_node_list,node_branch_num,weight):\n    edge_list = []\n    last_node_list = source_node_list[:]\n    for i in xrange(len(last_node_list)): \n        last_node = last_node_list[i]\n        next_node_branch_list = createNode(node_branch_num,min(last_node_list)+node_branch_num*i)\n        new_edge_list = map(lambda x: (last_node,x,weight),next_node_branch_list)\n        edge_list.append(new_edge_list)\n    edge_list = sum(edge_list,[])\n    return edge_list",
     "language": "python",
     "metadata": {},
     "outputs": [],
     "prompt_number": 10
    },
    {
     "cell_type": "code",
     "collapsed": false,
     "input": "def craeteEdgeBasedNodes(source_node_list,branch_num,weight):\n    edge_list = []\n    random_list = []\n    next_branch_node_list = []\n    \n    last_node_list = source_node_list[:]\n    for i in xrange(len(last_node_list)):\n        last_node  = last_node_list[i]\n        next_branch_node_list = []\n        \n        for j in xrange(branch_num): \n            temp_num = random.randint(min(last_node_list), max(last_node_list))\n            # print temp_num\n            next_branch_node_list.append(temp_num)\n                  \n        # print \"next_branch_node_list:\",next_branch_node_list\n        new_edge_list = map(lambda x: (last_node,x,weight),next_branch_node_list)\n        # print \"new_edge_list:\",new_edge_list\n        \n        edge_list.append(new_edge_list)\n    edge_list = sum(edge_list,[])\n    return edge_list",
     "language": "python",
     "metadata": {},
     "outputs": [],
     "prompt_number": 11
    },
    {
     "cell_type": "code",
     "collapsed": false,
     "input": "def createSameWeightOrNode(node_value,node_num):\n    list = []\n    for i in xrange(node_num):\n        list.append(node_value)\n    return list ",
     "language": "python",
     "metadata": {},
     "outputs": [],
     "prompt_number": 12
    },
    {
     "cell_type": "code",
     "collapsed": false,
     "input": "def deleteRepeatedEdge(data_list):\n    \n    edge_list = data_list[:]\n    func = lambda x,y:x if y in x or y[::-1] in x else x + [y]\n    \n    print \"before delete repeated item:\",len(edge_list)\n    edge_list = reduce(func, [[], ] + edge_list)\n    edge_list = filter(lambda x: x[0] != x[1],edge_list)\n    print \"after delete repeated item:\",len(edge_list)\n    return edge_list",
     "language": "python",
     "metadata": {},
     "outputs": [],
     "prompt_number": 13
    },
    {
     "cell_type": "code",
     "collapsed": false,
     "input": "def deleteRepeatedNode(node_list):\n    node_list_copy = node_list[:]\n    func = lambda x,y:x if y in x else x + [y]\n    node_list_copy = reduce(func, [[], ] + node_list_copy)\n    return node_list_copy",
     "language": "python",
     "metadata": {},
     "outputs": [],
     "prompt_number": 14
    },
    {
     "cell_type": "code",
     "collapsed": false,
     "input": "def findNeigborNode(source_node,total_edge_list):\n    edge_list = filter(lambda x: x[0] == source_node,total_edge_list)\n    return edge_list",
     "language": "python",
     "metadata": {},
     "outputs": [],
     "prompt_number": 15
    },
    {
     "cell_type": "code",
     "collapsed": false,
     "input": "def calcuteSpeed(information_center,total_edge_list,cover_rate):\n    temp_queue = []\n    num = 0\n    total_edge_num = len(total_edge_list)\n    spread_node_num = int(cover_rate*total_edge_num)\n    min_weight = 0\n    edge_list = total_edge_list[:]\n    #edge_list = map(lambda x: list(x),edge_list)\n    #print \"change type:\",edge_list\n    \n    \n    \n    for i in xrange(len(information_center)):\n        node_neighbor_edge_list = findNeigborNode(information_center[i],edge_list)\n        temp_queue = temp_queue + node_neighbor_edge_list\n        time = 0\n    \n    while num != spread_node_num or len(temp_queue == 0):\n        \n        for i in xrange(len(temp_queue)):\n            # print temp_queue \n            weight_list = map(lambda x: x[2],temp_queue)\n            weight_list = filter(lambda x: x!=0,weight_list)\n            # print \"weigt_list:\",weight_list\n            \n            min_weight = min(weight_list)\n            # print \"min weight:\",min_weight\n            \n            min_weight_node = filter(lambda x: x[2] == min_weight ,temp_queue)[0:1]\n            print \"min_weight_node:\",min_weight_node\n                \n            min_weight_node_id = min_weight_node[0][1]\n            # print \"min_weight_node_id:\",min_weight_node_id\n            # print \"type of min_weight_node:\",type(min_weight_node)\n\n            # temp_queue = [ i for i in temp_queue if i not in min_weight_node]\n            # edge_queue = [ i for i in edge_list if i not in min_weight_node]\n            \n            # print \"temp_queue:\",temp_queue\n            \n            time = time + min_weight_node[0][2]\n            print \"i:\",i\n            print \"time:\",time\n            # num = num + 1    \n            \n            # - weight\n            \n            temp_queue = map(lambda x : (x[0],x[1],x[2]-min_weight),temp_queue)\n            \n            need_delete_edge = filter(lambda x: x[2] == 0,temp_queue)\n            \n            temp_queue = filter(lambda x: x[2] != 0,temp_queue)\n           \n            edge_queue = [ i for i in edge_list if i not in need_delete_edge]\n            \n            num = num + len(need_delete_edge) \n            \n            # print \"i:temp_queue:\",i,temp_queue\n            \n            # + neighbor\n            \n            for i in xrange(len(need_delete_edge)):\n                temp_queue = temp_queue + findNeigborNode(need_delete_edge[i][0],edge_list)\n        \n    return time\n        ",
     "language": "python",
     "metadata": {},
     "outputs": [],
     "prompt_number": 16
    },
    {
     "cell_type": "code",
     "collapsed": false,
     "input": "# create centralized network \n\ncenter_node = [0]\nfirst_node_list = createNode(30,1)\n\n# [test part]\nprint \"first node list value:\",first_node_list\nprint \"length of first node list:\",len(first_node_list)\n\n# add weight for the first lever edge\nfirst_edge_list = createNeighborSide(center_node,30,5)\nsecond_edge_list = createNeighborSide(first_node_list,3,10)\n\nprint \"first edge list:\",first_edge_list\n\nprint \"second_edge_list value:\",second_edge_list\nprint \"second edge_list length:\",len(second_edge_list)\n\nsecond_node_list = map(lambda x: x[0],second_edge_list)\nsecond_node_list = deleteRepeatedNode(second_node_list)\nprint \"second_node_list:\",second_node_list\n\ncenter_network_list = []\ncenter_network_list = first_edge_list + second_edge_list\nprint \"length of center_network_list:\",len(center_network_list)\n\ncenter_network_list = deleteRepeatedEdge(center_network_list)\n\nwriteFile(\"center_network\",center_network_list)",
     "language": "python",
     "metadata": {},
     "outputs": [
      {
       "output_type": "stream",
       "stream": "stdout",
       "text": "first node list value: [1, 2, 3, 4, 5, 6, 7, 8, 9, 10, 11, 12, 13, 14, 15, 16, 17, 18, 19, 20, 21, 22, 23, 24, 25, 26, 27, 28, 29, 30]\nlength of first node list: 30\nfirst edge list: [(0, 0, 5), (0, 1, 5), (0, 2, 5), (0, 3, 5), (0, 4, 5), (0, 5, 5), (0, 6, 5), (0, 7, 5), (0, 8, 5), (0, 9, 5), (0, 10, 5), (0, 11, 5), (0, 12, 5), (0, 13, 5), (0, 14, 5), (0, 15, 5), (0, 16, 5), (0, 17, 5), (0, 18, 5), (0, 19, 5), (0, 20, 5), (0, 21, 5), (0, 22, 5), (0, 23, 5), (0, 24, 5), (0, 25, 5), (0, 26, 5), (0, 27, 5), (0, 28, 5), (0, 29, 5)]\nsecond_edge_list value: [(1, 1, 10), (1, 2, 10), (1, 3, 10), (2, 4, 10), (2, 5, 10), (2, 6, 10), (3, 7, 10), (3, 8, 10), (3, 9, 10), (4, 10, 10), (4, 11, 10), (4, 12, 10), (5, 13, 10), (5, 14, 10), (5, 15, 10), (6, 16, 10), (6, 17, 10), (6, 18, 10), (7, 19, 10), (7, 20, 10), (7, 21, 10), (8, 22, 10), (8, 23, 10), (8, 24, 10), (9, 25, 10), (9, 26, 10), (9, 27, 10), (10, 28, 10), (10, 29, 10), (10, 30, 10), (11, 31, 10), (11, 32, 10), (11, 33, 10), (12, 34, 10), (12, 35, 10), (12, 36, 10), (13, 37, 10), (13, 38, 10), (13, 39, 10), (14, 40, 10), (14, 41, 10), (14, 42, 10), (15, 43, 10), (15, 44, 10), (15, 45, 10), (16, 46, 10), (16, 47, 10), (16, 48, 10), (17, 49, 10), (17, 50, 10), (17, 51, 10), (18, 52, 10), (18, 53, 10), (18, 54, 10), (19, 55, 10), (19, 56, 10), (19, 57, 10), (20, 58, 10), (20, 59, 10), (20, 60, 10), (21, 61, 10), (21, 62, 10), (21, 63, 10), (22, 64, 10), (22, 65, 10), (22, 66, 10), (23, 67, 10), (23, 68, 10), (23, 69, 10), (24, 70, 10), (24, 71, 10), (24, 72, 10), (25, 73, 10), (25, 74, 10), (25, 75, 10), (26, 76, 10), (26, 77, 10), (26, 78, 10), (27, 79, 10), (27, 80, 10), (27, 81, 10), (28, 82, 10), (28, 83, 10), (28, 84, 10), (29, 85, 10), (29, 86, 10), (29, 87, 10), (30, 88, 10), (30, 89, 10), (30, 90, 10)]\nsecond edge_list length: 90\nsecond_node_list: [1, 2, 3, 4, 5, 6, 7, 8, 9, 10, 11, 12, 13, 14, 15, 16, 17, 18, 19, 20, 21, 22, 23, 24, 25, 26, 27, 28, 29, 30]\nlength of center_network_list: 120\nbefore delete repeated item: 120\nafter delete repeated item: 118\n"
      }
     ],
     "prompt_number": 22
    },
    {
     "cell_type": "code",
     "collapsed": false,
     "input": "# create decentralized network data\nsource_list = second_node_list[:]\nadd_edge_list = craeteEdgeBasedNodes(source_list,3,5)\n\nprint \"add edge list:\",add_edge_list\nadd_edge_list = deleteRepeatedEdge(add_edge_list)\n\ndecentrail_network_data = add_edge_list + second_edge_list\nprint \"decentrail_network_data:\",decentrail_network_data\nwriteFile(\"decentrail_network\",decentrail_network_data)\nprint \"length of decentrail network:\",len(decentrail_network_data)",
     "language": "python",
     "metadata": {},
     "outputs": [
      {
       "output_type": "stream",
       "stream": "stdout",
       "text": "add edge list: [(1, 17, 5), (1, 18, 5), (1, 22, 5), (2, 25, 5), (2, 30, 5), (2, 14, 5), (3, 6, 5), (3, 26, 5), (3, 14, 5), (4, 20, 5), (4, 20, 5), (4, 24, 5), (5, 9, 5), (5, 12, 5), (5, 29, 5), (6, 17, 5), (6, 19, 5), (6, 28, 5), (7, 28, 5), (7, 1, 5), (7, 14, 5), (8, 21, 5), (8, 13, 5), (8, 2, 5), (9, 26, 5), (9, 22, 5), (9, 17, 5), (10, 12, 5), (10, 3, 5), (10, 11, 5), (11, 5, 5), (11, 15, 5), (11, 10, 5), (12, 2, 5), (12, 8, 5), (12, 2, 5), (13, 12, 5), (13, 27, 5), (13, 11, 5), (14, 27, 5), (14, 15, 5), (14, 28, 5), (15, 30, 5), (15, 3, 5), (15, 15, 5), (16, 7, 5), (16, 26, 5), (16, 26, 5), (17, 22, 5), (17, 16, 5), (17, 14, 5), (18, 1, 5), (18, 13, 5), (18, 17, 5), (19, 9, 5), (19, 1, 5), (19, 25, 5), (20, 20, 5), (20, 2, 5), (20, 17, 5), (21, 27, 5), (21, 3, 5), (21, 7, 5), (22, 30, 5), (22, 5, 5), (22, 2, 5), (23, 19, 5), (23, 21, 5), (23, 13, 5), (24, 14, 5), (24, 7, 5), (24, 1, 5), (25, 21, 5), (25, 19, 5), (25, 27, 5), (26, 11, 5), (26, 26, 5), (26, 14, 5), (27, 29, 5), (27, 13, 5), (27, 20, 5), (28, 26, 5), (28, 17, 5), (28, 27, 5), (29, 11, 5), (29, 1, 5), (29, 19, 5), (30, 28, 5), (30, 14, 5), (30, 23, 5)]\nbefore delete repeated item: 90\nafter delete repeated item: 84\ndecentrail_network_data: [(1, 17, 5), (1, 18, 5), (1, 22, 5), (2, 25, 5), (2, 30, 5), (2, 14, 5), (3, 6, 5), (3, 26, 5), (3, 14, 5), (4, 20, 5), (4, 24, 5), (5, 9, 5), (5, 12, 5), (5, 29, 5), (6, 17, 5), (6, 19, 5), (6, 28, 5), (7, 28, 5), (7, 1, 5), (7, 14, 5), (8, 21, 5), (8, 13, 5), (8, 2, 5), (9, 26, 5), (9, 22, 5), (9, 17, 5), (10, 12, 5), (10, 3, 5), (10, 11, 5), (11, 5, 5), (11, 15, 5), (11, 10, 5), (12, 2, 5), (12, 8, 5), (13, 12, 5), (13, 27, 5), (13, 11, 5), (14, 27, 5), (14, 15, 5), (14, 28, 5), (15, 30, 5), (15, 3, 5), (16, 7, 5), (16, 26, 5), (17, 22, 5), (17, 16, 5), (17, 14, 5), (18, 1, 5), (18, 13, 5), (18, 17, 5), (19, 9, 5), (19, 1, 5), (19, 25, 5), (20, 2, 5), (20, 17, 5), (21, 27, 5), (21, 3, 5), (21, 7, 5), (22, 30, 5), (22, 5, 5), (22, 2, 5), (23, 19, 5), (23, 21, 5), (23, 13, 5), (24, 14, 5), (24, 7, 5), (24, 1, 5), (25, 21, 5), (25, 19, 5), (25, 27, 5), (26, 11, 5), (26, 14, 5), (27, 29, 5), (27, 13, 5), (27, 20, 5), (28, 26, 5), (28, 17, 5), (28, 27, 5), (29, 11, 5), (29, 1, 5), (29, 19, 5), (30, 28, 5), (30, 14, 5), (30, 23, 5), (1, 1, 10), (1, 2, 10), (1, 3, 10), (2, 4, 10), (2, 5, 10), (2, 6, 10), (3, 7, 10), (3, 8, 10), (3, 9, 10), (4, 10, 10), (4, 11, 10), (4, 12, 10), (5, 13, 10), (5, 14, 10), (5, 15, 10), (6, 16, 10), (6, 17, 10), (6, 18, 10), (7, 19, 10), (7, 20, 10), (7, 21, 10), (8, 22, 10), (8, 23, 10), (8, 24, 10), (9, 25, 10), (9, 26, 10), (9, 27, 10), (10, 28, 10), (10, 29, 10), (10, 30, 10), (11, 31, 10), (11, 32, 10), (11, 33, 10), (12, 34, 10), (12, 35, 10), (12, 36, 10), (13, 37, 10), (13, 38, 10), (13, 39, 10), (14, 40, 10), (14, 41, 10), (14, 42, 10), (15, 43, 10), (15, 44, 10), (15, 45, 10), (16, 46, 10), (16, 47, 10), (16, 48, 10), (17, 49, 10), (17, 50, 10), (17, 51, 10), (18, 52, 10), (18, 53, 10), (18, 54, 10), (19, 55, 10), (19, 56, 10), (19, 57, 10), (20, 58, 10), (20, 59, 10), (20, 60, 10), (21, 61, 10), (21, 62, 10), (21, 63, 10), (22, 64, 10), (22, 65, 10), (22, 66, 10), (23, 67, 10), (23, 68, 10), (23, 69, 10), (24, 70, 10), (24, 71, 10), (24, 72, 10), (25, 73, 10), (25, 74, 10), (25, 75, 10), (26, 76, 10), (26, 77, 10), (26, 78, 10), (27, 79, 10), (27, 80, 10), (27, 81, 10), (28, 82, 10), (28, 83, 10), (28, 84, 10), (29, 85, 10), (29, 86, 10), (29, 87, 10), (30, 88, 10), (30, 89, 10), (30, 90, 10)]\nlength of decentrail network: 174\n"
      }
     ],
     "prompt_number": 23
    },
    {
     "cell_type": "code",
     "collapsed": false,
     "input": "# create Distributer network\nnode_list = createNode(30,1)\ndistributed_network_data = craeteEdgeBasedNodes(node_list,8,10)\nwriteFile(\"distributed_network\",distributed_network_data)",
     "language": "python",
     "metadata": {},
     "outputs": [],
     "prompt_number": 24
    },
    {
     "cell_type": "code",
     "collapsed": false,
     "input": "# calcute speed of centralized network\n\ninformation_center = [0]\nspeed = calcuteSpeed(information_center,center_network_list,0.97)\nprint speed",
     "language": "python",
     "metadata": {},
     "outputs": [],
     "prompt_number": "*"
    },
    {
     "cell_type": "code",
     "collapsed": false,
     "input": "",
     "language": "python",
     "metadata": {},
     "outputs": [],
     "prompt_number": 17
    },
    {
     "cell_type": "code",
     "collapsed": false,
     "input": "",
     "language": "python",
     "metadata": {},
     "outputs": [],
     "prompt_number": 17
    },
    {
     "cell_type": "code",
     "collapsed": false,
     "input": "",
     "language": "python",
     "metadata": {},
     "outputs": []
    },
    {
     "cell_type": "code",
     "collapsed": false,
     "input": "",
     "language": "python",
     "metadata": {},
     "outputs": [],
     "prompt_number": 24
    },
    {
     "cell_type": "code",
     "collapsed": false,
     "input": "list = [[(1,2)],[3,4]]\nsum(list,[])\n",
     "language": "python",
     "metadata": {},
     "outputs": [
      {
       "metadata": {},
       "output_type": "pyout",
       "prompt_number": 21,
       "text": "[(1, 2), 3, 4]"
      }
     ],
     "prompt_number": 21
    },
    {
     "cell_type": "code",
     "collapsed": false,
     "input": "",
     "language": "python",
     "metadata": {},
     "outputs": [],
     "prompt_number": 21
    },
    {
     "cell_type": "code",
     "collapsed": false,
     "input": "",
     "language": "python",
     "metadata": {},
     "outputs": []
    }
   ],
   "metadata": {}
  }
 ]
}
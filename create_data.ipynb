{
 "metadata": {
  "name": ""
 },
 "nbformat": 3,
 "nbformat_minor": 0,
 "worksheets": [
  {
   "cells": [
    {
     "cell_type": "code",
     "collapsed": false,
     "input": [
      "import csv\n",
      "import random"
     ],
     "language": "python",
     "metadata": {},
     "outputs": [],
     "prompt_number": 238
    },
    {
     "cell_type": "code",
     "collapsed": false,
     "input": [
      "def writeFile(file_name,data_list):\n",
      "    csvfile = file(file_name, 'wb')\n",
      "    writer = csv.writer(csvfile)\n",
      "    writer.writerow(['source','target','weight'])\n",
      "    writer.writerows(data_list)\n",
      "    csvfile.close()"
     ],
     "language": "python",
     "metadata": {},
     "outputs": [],
     "prompt_number": 162
    },
    {
     "cell_type": "code",
     "collapsed": false,
     "input": [
      "def createNode(node_num,node_min_value):\n",
      "    node_list = []\n",
      "    for i in xrange(node_num):\n",
      "        node_list.append(i+node_min_value)\n",
      "    return node_list"
     ],
     "language": "python",
     "metadata": {},
     "outputs": [],
     "prompt_number": 163
    },
    {
     "cell_type": "code",
     "collapsed": false,
     "input": [
      "def createNeighborSide(source_node_list,node_branch_num,weight):\n",
      "    edge_list = []\n",
      "    last_node_list = source_node_list[:]\n",
      "    for i in xrange(len(last_node_list)): \n",
      "        last_node = last_node_list[i]\n",
      "        next_node_branch_list = createNode(node_branch_num,min(last_node_list)+node_branch_num*i)\n",
      "        new_edge_list = map(lambda x: (last_node,x,weight),next_node_branch_list)\n",
      "        edge_list.append(new_edge_list)\n",
      "    edge_list = sum(edge_list,[])\n",
      "    return edge_list"
     ],
     "language": "python",
     "metadata": {},
     "outputs": [],
     "prompt_number": 215
    },
    {
     "cell_type": "code",
     "collapsed": false,
     "input": [
      "def craeteEdgeBasedNodes(source_node_list,branch_num,weight):\n",
      "    edge_list = []\n",
      "    random_list = []\n",
      "    next_branch_node_list = []\n",
      "    \n",
      "    last_node_list = source_node_list[:]\n",
      "    for i in xrange(len(last_node_list)):\n",
      "        last_node  = last_node_list[i]\n",
      "        next_branch_node_list = []\n",
      "        \n",
      "        for j in xrange(branch_num): \n",
      "            temp_num = random.randint(min(last_node_list), max(last_node_list))\n",
      "            # print temp_num\n",
      "            next_branch_node_list.append(temp_num)\n",
      "                  \n",
      "        # print \"next_branch_node_list:\",next_branch_node_list\n",
      "        new_edge_list = map(lambda x: (last_node,x,weight),next_branch_node_list)\n",
      "        # print \"new_edge_list:\",new_edge_list\n",
      "        \n",
      "        edge_list.append(new_edge_list)\n",
      "    edge_list = sum(edge_list,[])\n",
      "    return edge_list"
     ],
     "language": "python",
     "metadata": {},
     "outputs": [],
     "prompt_number": 299
    },
    {
     "cell_type": "code",
     "collapsed": false,
     "input": [
      "list = [1,2,3,4]\n",
      "list[0:3]\n"
     ],
     "language": "python",
     "metadata": {},
     "outputs": [
      {
       "metadata": {},
       "output_type": "pyout",
       "prompt_number": 300,
       "text": [
        "[1, 2, 3]"
       ]
      }
     ],
     "prompt_number": 300
    },
    {
     "cell_type": "code",
     "collapsed": false,
     "input": [
      "def createSameWeightOrNode(node_value,node_num):\n",
      "    list = []\n",
      "    for i in xrange(node_num):\n",
      "        list.append(node_value)\n",
      "    return list "
     ],
     "language": "python",
     "metadata": {},
     "outputs": [],
     "prompt_number": 301
    },
    {
     "cell_type": "code",
     "collapsed": false,
     "input": [
      "def deleteRepeatedEdge(data_list):\n",
      "    \n",
      "    edge_list = data_list[:]\n",
      "    func = lambda x,y:x if y in x or y[::-1] in x else x + [y]\n",
      "    \n",
      "    print \"before delete repeated item:\",len(edge_list)\n",
      "    edge_list = reduce(func, [[], ] + edge_list)\n",
      "    print \"after delete repeated item:\",len(edge_list)\n",
      "    return edge_list"
     ],
     "language": "python",
     "metadata": {},
     "outputs": [],
     "prompt_number": 305
    },
    {
     "cell_type": "code",
     "collapsed": false,
     "input": [
      "def deleteRepeatedNode(node_list):\n",
      "    node_list_copy = node_list[:]\n",
      "    func = lambda x,y:x if y in x else x + [y]\n",
      "    node_list_copy = reduce(func, [[], ] + node_list_copy)\n",
      "    return node_list_copy"
     ],
     "language": "python",
     "metadata": {},
     "outputs": [],
     "prompt_number": 314
    },
    {
     "cell_type": "code",
     "collapsed": false,
     "input": [
      "# create centralized network \n",
      "\n",
      "center_node = [0]\n",
      "first_node_list = createNode(30,1)\n",
      "\n",
      "# [test part]\n",
      "print \"first node list value:\",first_node_list\n",
      "print \"length of first node list:\",len(node_list)\n",
      "\n",
      "# add weight for the first lever edge\n",
      "first_edge_list = createNeighborSide(center_node,30,5)\n",
      "\n",
      "print \"first edge list:\",first_edge_list\n",
      "\n",
      "print \"second_edge_list value:\",second_edge_list\n",
      "print \"second edge_list length:\",len(second_edge_list)\n",
      "\n",
      "second_node_list = map(lambda x: x[0],second_edge_list)\n",
      "second_node_list = deleteRepeatedNode(second_node_list)\n",
      "print \"second_node_list:\",second_node_list\n",
      "\n",
      "center_network_list = []\n",
      "center_network_list = first_edge_list + second_edge_list\n",
      "print \"length of center_network_list:\",len(center_network_list)\n",
      "\n",
      "writeFile(\"center_network\",center_network_list)"
     ],
     "language": "python",
     "metadata": {},
     "outputs": [
      {
       "output_type": "stream",
       "stream": "stdout",
       "text": [
        "first node list value: [1, 2, 3, 4, 5, 6, 7, 8, 9, 10, 11, 12, 13, 14, 15, 16, 17, 18, 19, 20, 21, 22, 23, 24, 25, 26, 27, 28, 29, 30]\n",
        "length of first node list: 10\n",
        "first edge list: [(0, 0, 5), (0, 1, 5), (0, 2, 5), (0, 3, 5), (0, 4, 5), (0, 5, 5), (0, 6, 5), (0, 7, 5), (0, 8, 5), (0, 9, 5), (0, 10, 5), (0, 11, 5), (0, 12, 5), (0, 13, 5), (0, 14, 5), (0, 15, 5), (0, 16, 5), (0, 17, 5), (0, 18, 5), (0, 19, 5), (0, 20, 5), (0, 21, 5), (0, 22, 5), (0, 23, 5), (0, 24, 5), (0, 25, 5), (0, 26, 5), (0, 27, 5), (0, 28, 5), (0, 29, 5)]\n",
        "second_edge_list value: [(1, 1, 10), (1, 2, 10), (1, 3, 10), (2, 4, 10), (2, 5, 10), (2, 6, 10), (3, 7, 10), (3, 8, 10), (3, 9, 10), (4, 10, 10), (4, 11, 10), (4, 12, 10), (5, 13, 10), (5, 14, 10), (5, 15, 10), (6, 16, 10), (6, 17, 10), (6, 18, 10), (7, 19, 10), (7, 20, 10), (7, 21, 10), (8, 22, 10), (8, 23, 10), (8, 24, 10), (9, 25, 10), (9, 26, 10), (9, 27, 10), (10, 28, 10), (10, 29, 10), (10, 30, 10), (11, 31, 10), (11, 32, 10), (11, 33, 10), (12, 34, 10), (12, 35, 10), (12, 36, 10), (13, 37, 10), (13, 38, 10), (13, 39, 10), (14, 40, 10), (14, 41, 10), (14, 42, 10), (15, 43, 10), (15, 44, 10), (15, 45, 10), (16, 46, 10), (16, 47, 10), (16, 48, 10), (17, 49, 10), (17, 50, 10), (17, 51, 10), (18, 52, 10), (18, 53, 10), (18, 54, 10), (19, 55, 10), (19, 56, 10), (19, 57, 10), (20, 58, 10), (20, 59, 10), (20, 60, 10), (21, 61, 10), (21, 62, 10), (21, 63, 10), (22, 64, 10), (22, 65, 10), (22, 66, 10), (23, 67, 10), (23, 68, 10), (23, 69, 10), (24, 70, 10), (24, 71, 10), (24, 72, 10), (25, 73, 10), (25, 74, 10), (25, 75, 10), (26, 76, 10), (26, 77, 10), (26, 78, 10), (27, 79, 10), (27, 80, 10), (27, 81, 10), (28, 82, 10), (28, 83, 10), (28, 84, 10), (29, 85, 10), (29, 86, 10), (29, 87, 10), (30, 88, 10), (30, 89, 10), (30, 90, 10)]\n",
        "second edge_list length: 90\n",
        "second_node_list: [1, 2, 3, 4, 5, 6, 7, 8, 9, 10, 11, 12, 13, 14, 15, 16, 17, 18, 19, 20, 21, 22, 23, 24, 25, 26, 27, 28, 29, 30]\n",
        "length of center_network_list: 120\n"
       ]
      }
     ],
     "prompt_number": 315
    },
    {
     "cell_type": "code",
     "collapsed": false,
     "input": [
      "# create decentralized network data\n",
      "source_list = second_node_list[:]\n",
      "add_edge_list = craeteEdgeBasedNodes(source_list,3,2)\n",
      "\n",
      "print \"add edge list:\",add_edge_list\n",
      "add_edge_list = deleteRepeatedEdge(add_edge_list)\n",
      "\n",
      "decentrail_network_data = add_edge_list + second_edge_list\n",
      "print \"decentrail_network_data:\",decentrail_network_data\n",
      "writeFile(\"decentrail_network\",decentrail_network_data)\n",
      "\n",
      "print \"length of decentrail network:\",len(decentrail_network_data)"
     ],
     "language": "python",
     "metadata": {},
     "outputs": [
      {
       "output_type": "stream",
       "stream": "stdout",
       "text": [
        "add edge list: [(1, 4, 2), (1, 4, 2), (1, 22, 2), (2, 15, 2), (2, 15, 2), (2, 1, 2), (3, 24, 2), (3, 24, 2), (3, 17, 2), (4, 16, 2), (4, 3, 2), (4, 23, 2), (5, 5, 2), (5, 24, 2), (5, 17, 2), (6, 8, 2), (6, 25, 2), (6, 11, 2), (7, 15, 2), (7, 13, 2), (7, 29, 2), (8, 17, 2), (8, 11, 2), (8, 18, 2), (9, 25, 2), (9, 8, 2), (9, 10, 2), (10, 7, 2), (10, 6, 2), (10, 14, 2), (11, 15, 2), (11, 10, 2), (11, 30, 2), (12, 8, 2), (12, 27, 2), (12, 19, 2), (13, 7, 2), (13, 16, 2), (13, 29, 2), (14, 27, 2), (14, 19, 2), (14, 28, 2), (15, 26, 2), (15, 3, 2), (15, 3, 2), (16, 9, 2), (16, 1, 2), (16, 4, 2), (17, 21, 2), (17, 4, 2), (17, 1, 2), (18, 2, 2), (18, 13, 2), (18, 16, 2), (19, 14, 2), (19, 7, 2), (19, 11, 2), (20, 28, 2), (20, 20, 2), (20, 18, 2), (21, 4, 2), (21, 14, 2), (21, 17, 2), (22, 1, 2), (22, 7, 2), (22, 2, 2), (23, 28, 2), (23, 28, 2), (23, 5, 2), (24, 10, 2), (24, 14, 2), (24, 24, 2), (25, 4, 2), (25, 30, 2), (25, 22, 2), (26, 14, 2), (26, 12, 2), (26, 23, 2), (27, 8, 2), (27, 1, 2), (27, 22, 2), (28, 6, 2), (28, 22, 2), (28, 21, 2), (29, 12, 2), (29, 6, 2), (29, 19, 2), (30, 30, 2), (30, 19, 2), (30, 7, 2)]\n",
        "before delete repeated item: 90\n",
        "after delete repeated item: 85\n",
        "decentrail_network_data: [(1, 4, 2), (1, 22, 2), (2, 15, 2), (2, 1, 2), (3, 24, 2), (3, 17, 2), (4, 16, 2), (4, 3, 2), (4, 23, 2), (5, 5, 2), (5, 24, 2), (5, 17, 2), (6, 8, 2), (6, 25, 2), (6, 11, 2), (7, 15, 2), (7, 13, 2), (7, 29, 2), (8, 17, 2), (8, 11, 2), (8, 18, 2), (9, 25, 2), (9, 8, 2), (9, 10, 2), (10, 7, 2), (10, 6, 2), (10, 14, 2), (11, 15, 2), (11, 10, 2), (11, 30, 2), (12, 8, 2), (12, 27, 2), (12, 19, 2), (13, 7, 2), (13, 16, 2), (13, 29, 2), (14, 27, 2), (14, 19, 2), (14, 28, 2), (15, 26, 2), (15, 3, 2), (16, 9, 2), (16, 1, 2), (16, 4, 2), (17, 21, 2), (17, 4, 2), (17, 1, 2), (18, 2, 2), (18, 13, 2), (18, 16, 2), (19, 14, 2), (19, 7, 2), (19, 11, 2), (20, 28, 2), (20, 20, 2), (20, 18, 2), (21, 4, 2), (21, 14, 2), (21, 17, 2), (22, 1, 2), (22, 7, 2), (22, 2, 2), (23, 28, 2), (23, 5, 2), (24, 10, 2), (24, 14, 2), (24, 24, 2), (25, 4, 2), (25, 30, 2), (25, 22, 2), (26, 14, 2), (26, 12, 2), (26, 23, 2), (27, 8, 2), (27, 1, 2), (27, 22, 2), (28, 6, 2), (28, 22, 2), (28, 21, 2), (29, 12, 2), (29, 6, 2), (29, 19, 2), (30, 30, 2), (30, 19, 2), (30, 7, 2), (1, 1, 10), (1, 2, 10), (1, 3, 10), (2, 4, 10), (2, 5, 10), (2, 6, 10), (3, 7, 10), (3, 8, 10), (3, 9, 10), (4, 10, 10), (4, 11, 10), (4, 12, 10), (5, 13, 10), (5, 14, 10), (5, 15, 10), (6, 16, 10), (6, 17, 10), (6, 18, 10), (7, 19, 10), (7, 20, 10), (7, 21, 10), (8, 22, 10), (8, 23, 10), (8, 24, 10), (9, 25, 10), (9, 26, 10), (9, 27, 10), (10, 28, 10), (10, 29, 10), (10, 30, 10), (11, 31, 10), (11, 32, 10), (11, 33, 10), (12, 34, 10), (12, 35, 10), (12, 36, 10), (13, 37, 10), (13, 38, 10), (13, 39, 10), (14, 40, 10), (14, 41, 10), (14, 42, 10), (15, 43, 10), (15, 44, 10), (15, 45, 10), (16, 46, 10), (16, 47, 10), (16, 48, 10), (17, 49, 10), (17, 50, 10), (17, 51, 10), (18, 52, 10), (18, 53, 10), (18, 54, 10), (19, 55, 10), (19, 56, 10), (19, 57, 10), (20, 58, 10), (20, 59, 10), (20, 60, 10), (21, 61, 10), (21, 62, 10), (21, 63, 10), (22, 64, 10), (22, 65, 10), (22, 66, 10), (23, 67, 10), (23, 68, 10), (23, 69, 10), (24, 70, 10), (24, 71, 10), (24, 72, 10), (25, 73, 10), (25, 74, 10), (25, 75, 10), (26, 76, 10), (26, 77, 10), (26, 78, 10), (27, 79, 10), (27, 80, 10), (27, 81, 10), (28, 82, 10), (28, 83, 10), (28, 84, 10), (29, 85, 10), (29, 86, 10), (29, 87, 10), (30, 88, 10), (30, 89, 10), (30, 90, 10)]\n",
        "length of decentrail network: 175\n"
       ]
      }
     ],
     "prompt_number": 322
    },
    {
     "cell_type": "code",
     "collapsed": false,
     "input": [
      "# create Distributer network\n",
      "node_list = createNode(30,1)\n",
      "distributed_network_data = craeteEdgeBasedNodes(node_list,8,10)\n",
      "writeFile(\"distributed_network\",distributed_network_data)"
     ],
     "language": "python",
     "metadata": {},
     "outputs": [],
     "prompt_number": 330
    },
    {
     "cell_type": "code",
     "collapsed": false,
     "input": [],
     "language": "python",
     "metadata": {},
     "outputs": [],
     "prompt_number": 100
    },
    {
     "cell_type": "code",
     "collapsed": false,
     "input": [
      "list = [[(1,2)],[3,4]]\n",
      "sum(list,[])\n"
     ],
     "language": "python",
     "metadata": {},
     "outputs": [
      {
       "metadata": {},
       "output_type": "pyout",
       "prompt_number": 92,
       "text": [
        "[(1, 2), 3, 4]"
       ]
      }
     ],
     "prompt_number": 92
    },
    {
     "cell_type": "code",
     "collapsed": false,
     "input": [],
     "language": "python",
     "metadata": {},
     "outputs": [
      {
       "metadata": {},
       "output_type": "pyout",
       "prompt_number": 63,
       "text": [
        "[0, 1, 12]"
       ]
      }
     ],
     "prompt_number": 63
    },
    {
     "cell_type": "code",
     "collapsed": false,
     "input": [],
     "language": "python",
     "metadata": {},
     "outputs": []
    }
   ],
   "metadata": {}
  }
 ]
}